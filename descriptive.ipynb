{
 "cells": [
  {
   "cell_type": "code",
   "execution_count": 1,
   "metadata": {},
   "outputs": [],
   "source": [
    "import functions"
   ]
  },
  {
   "cell_type": "markdown",
   "metadata": {},
   "source": [
    "<p>Objetivo da estatística descritiva: pode ser visto como o conjunto de métodos que visa descrever, ou atribuir algum significado estimatório, para um conjunto de dados </p>"
   ]
  },
  {
   "cell_type": "markdown",
   "metadata": {},
   "source": [
    "<h3>Amostra x População</h3>\n",
    "<li>A população representa todos os valores possíveis para um determinado conjunto de dados</li>\n",
    "<li>A amostra é uma representação da população, sendo necessária pois muitas vezes é difícil conseguir todos os valores da população. Existem várias técnicas para obter uma boa amostra, onde serão apresentadas mais a frente</li>"
   ]
  },
  {
   "cell_type": "markdown",
   "metadata": {},
   "source": [
    "<h3>Média</h3>\n",
    "<p>A média númerica é uma forma de resumir um conjunto de dados númericos, podendo ser entendida como um valor \"justo\" que tenta ficar o mais centralizado possível baseado em todos os valores do conjunto</p>\n",
    "<p>Sua fórmula é dado por u = somatório dos valores da população / quantidade total da valores da população </p>"
   ]
  },
  {
   "cell_type": "code",
   "execution_count": 2,
   "metadata": {},
   "outputs": [
    {
     "name": "stdout",
     "output_type": "stream",
     "text": [
      "Em média, a população tem 23.75 anos\n"
     ]
    }
   ],
   "source": [
    "#exemplo\n",
    "idades = [12, 15, 17, 51]\n",
    "idade_media = functions.mean(idades)\n",
    "\n",
    "print(f'Em média, a população tem {idade_media} anos')"
   ]
  },
  {
   "cell_type": "markdown",
   "metadata": {},
   "source": [
    "<h3>Mediana</h3>\n",
    "<p>A mediana é o valor do meio, central, em seu conjunto de dados ordenado</p>\n",
    "<p>Diferentemente da média, ela não leva em consideração o valor de cada número no conjunto, apenas sua posição. Isso é útil em situações em que existem valores muito discrepantes. Por exemplo, idades de 1, 4, 9, 3 e 98 anos. Talvez não seja interessante considerar a pessoa de 98 anos, pois puxaria muito o valor para cima. Logo, a mediana é menos sensível a outliners </p>\n",
    "<p>Sua fórmula é dado pela ordenação em ordem crescente ou descreste e: </p>\n",
    "<li>Se a quantidade de números for ímpar, x = (num de elementos + 1) / 2</li>\n",
    "<li>Se a quantidade de números for par, fazer a média entre os dois centrais</li>"
   ]
  },
  {
   "cell_type": "code",
   "execution_count": 3,
   "metadata": {},
   "outputs": [
    {
     "name": "stdout",
     "output_type": "stream",
     "text": [
      "A mediana do salário dos 5 funcionários é 3000 R$\n"
     ]
    }
   ],
   "source": [
    "salarios = [1000, 2000, 3000, 9000, 999999]\n",
    "\n",
    "mediana_salarial = functions.median(salarios)\n",
    "print(f'A mediana do salário dos 5 funcionários é {mediana_salarial} R$')"
   ]
  },
  {
   "cell_type": "code",
   "execution_count": 4,
   "metadata": {},
   "outputs": [
    {
     "name": "stdout",
     "output_type": "stream",
     "text": [
      "A mediana do salário dos 4 júniors é 2500.0 R$\n"
     ]
    }
   ],
   "source": [
    "salarios_junior = [1000, 2000, 3000, 4000]\n",
    "\n",
    "mediana_salarial_jr = functions.median(salarios_junior)\n",
    "print(f'A mediana do salário dos 4 júniors é {mediana_salarial_jr} R$')\n"
   ]
  },
  {
   "cell_type": "code",
   "execution_count": 5,
   "metadata": {},
   "outputs": [
    {
     "data": {
      "text/plain": [
       "8.5"
      ]
     },
     "execution_count": 5,
     "metadata": {},
     "output_type": "execute_result"
    }
   ],
   "source": [
    "functions.median([6, 14, -4, 9, 8, 15])"
   ]
  },
  {
   "cell_type": "markdown",
   "metadata": {},
   "source": [
    "<h3>Problema da Distribuição</h3>\n",
    "<p>Se os dados não estiverem bem distribuídos e considerar ranges continuos, é necessário tomar cuidado ao calcular a média e mediana, pois a estivama pode ser tendênciosa</p>"
   ]
  },
  {
   "cell_type": "markdown",
   "metadata": {},
   "source": [
    "<h3>Moda</h3>\n",
    "<p>A moda é uma terceira forma de resumir os dados. Para tal, ela procurar identificar o valor que ocorre com mais frequência no conjunto de dados</p>\n",
    "<p> Se a frequência de n valores tem a mesma frequência, a moda seria os n valores (n-modal) </p>\n",
    "<p> Ela é útil pra alguns contextos, como dados qualitativos. Por exemplo, um conjunto de dados para de pessoas que moram em determinados países. Não faz muito sentido calcular um país médio. Logo, observar o país mais frequente seria mais ideal. Além disso, ela pode ser útil para encontrar o pico em um gráfico de frequência não uniformemente distribuído (ou os picos). Logo, ela também é menos sensível a outliers se o conjunto de dados for significativo </p>"
   ]
  },
  {
   "cell_type": "code",
   "execution_count": 8,
   "metadata": {},
   "outputs": [
    {
     "name": "stdout",
     "output_type": "stream",
     "text": [
      "Temperatura moda: {18, 19} Cº\n"
     ]
    }
   ],
   "source": [
    "temperaturas_semana = [22, 25, 19, 18, 19, 20, 18]\n",
    "mode_temp = functions.mode(temperaturas_semana)\n",
    "print(f'Temperatura moda: {mode_temp} Cº')\n"
   ]
  },
  {
   "cell_type": "markdown",
   "metadata": {},
   "source": [
    "### Comparação das medidas\n",
    "<img src=\"images/Measures-Of-Central-Tendency-Mean-Median-and-Mode.png\" alt=\"Measures-Of-Central-Tendency-Mean-Median-and-Mode\">\n",
    "<a>fonte: https://ledidi.com/academy/measures-of-central-tendency-mean-median-and-mode</a>"
   ]
  }
 ],
 "metadata": {
  "kernelspec": {
   "display_name": "Python 3",
   "language": "python",
   "name": "python3"
  },
  "language_info": {
   "codemirror_mode": {
    "name": "ipython",
    "version": 3
   },
   "file_extension": ".py",
   "mimetype": "text/x-python",
   "name": "python",
   "nbconvert_exporter": "python",
   "pygments_lexer": "ipython3",
   "version": "3.12.1"
  }
 },
 "nbformat": 4,
 "nbformat_minor": 2
}
