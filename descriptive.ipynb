{
 "cells": [
  {
   "cell_type": "code",
   "execution_count": 1,
   "metadata": {},
   "outputs": [],
   "source": [
    "import functions"
   ]
  },
  {
   "cell_type": "markdown",
   "metadata": {},
   "source": [
    "<p>Objetivo da estatística descritiva: pode ser visto como o conjunto de métodos que visa descrever, ou atribuir algum significado estimatório, para um conjunto de dados </p>"
   ]
  },
  {
   "cell_type": "markdown",
   "metadata": {},
   "source": [
    "<h3>Amostra x População</h3>\n",
    "<li>A população representa todos os valores possíveis para um determinado conjunto de dados</li>\n",
    "<li>A amostra é uma representação da população, sendo necessária pois muitas vezes é difícil conseguir todos os valores da população. Existem várias técnicas para obter uma boa amostra, onde serão apresentadas mais a frente</li>"
   ]
  },
  {
   "cell_type": "markdown",
   "metadata": {},
   "source": [
    "<h1>Medidas de Resumo</h1>"
   ]
  },
  {
   "cell_type": "markdown",
   "metadata": {},
   "source": [
    "<h3>Média</h3>\n",
    "<p>A média númerica é uma forma de resumir um conjunto de dados númericos, podendo ser entendida como um valor \"justo\" que tenta ficar o mais centralizado possível baseado em todos os valores do conjunto</p>\n",
    "<p>Sua fórmula é dado por u = somatório dos valores da população / quantidade total da valores da população </p>"
   ]
  },
  {
   "cell_type": "code",
   "execution_count": 2,
   "metadata": {},
   "outputs": [
    {
     "name": "stdout",
     "output_type": "stream",
     "text": [
      "Em média, a população tem 23.75 anos\n"
     ]
    }
   ],
   "source": [
    "#exemplo\n",
    "idades = [12, 15, 17, 51]\n",
    "idade_media = functions.mean(idades)\n",
    "\n",
    "print(f'Em média, a população tem {idade_media} anos')"
   ]
  },
  {
   "cell_type": "markdown",
   "metadata": {},
   "source": [
    "<h3>Mediana</h3>\n",
    "<p>A mediana é o valor do meio, central, em seu conjunto de dados ordenado</p>\n",
    "<p>Diferentemente da média, ela não leva em consideração o valor de cada número no conjunto, apenas sua posição. Isso é útil em situações em que existem valores muito discrepantes. Por exemplo, idades de 1, 4, 9, 3 e 98 anos. Talvez não seja interessante considerar a pessoa de 98 anos, pois puxaria muito o valor para cima. Logo, a mediana é menos sensível a outliners </p>\n",
    "<p>Sua fórmula é dado pela ordenação em ordem crescente ou descreste e: </p>\n",
    "<li>Se a quantidade de números for ímpar, x = (num de elementos + 1) / 2</li>\n",
    "<li>Se a quantidade de números for par, fazer a média entre os dois centrais</li>"
   ]
  },
  {
   "cell_type": "code",
   "execution_count": 3,
   "metadata": {},
   "outputs": [
    {
     "name": "stdout",
     "output_type": "stream",
     "text": [
      "A mediana do salário dos 5 funcionários é 3000 R$\n"
     ]
    }
   ],
   "source": [
    "salarios = [1000, 2000, 3000, 9000, 999999]\n",
    "\n",
    "mediana_salarial = functions.median(salarios)\n",
    "print(f'A mediana do salário dos 5 funcionários é {mediana_salarial} R$')"
   ]
  },
  {
   "cell_type": "code",
   "execution_count": 4,
   "metadata": {},
   "outputs": [
    {
     "name": "stdout",
     "output_type": "stream",
     "text": [
      "A mediana do salário dos 4 júniors é 2500.0 R$\n"
     ]
    }
   ],
   "source": [
    "salarios_junior = [1000, 2000, 3000, 4000]\n",
    "\n",
    "mediana_salarial_jr = functions.median(salarios_junior)\n",
    "print(f'A mediana do salário dos 4 júniors é {mediana_salarial_jr} R$')\n"
   ]
  },
  {
   "cell_type": "code",
   "execution_count": 5,
   "metadata": {},
   "outputs": [
    {
     "data": {
      "text/plain": [
       "8.5"
      ]
     },
     "execution_count": 5,
     "metadata": {},
     "output_type": "execute_result"
    }
   ],
   "source": [
    "functions.median([6, 14, -4, 9, 8, 15])"
   ]
  },
  {
   "cell_type": "markdown",
   "metadata": {},
   "source": [
    "<h3>Problema da Distribuição</h3>\n",
    "<p>Se os dados não estiverem bem distribuídos e considerar ranges continuos, é necessário tomar cuidado ao calcular a média e mediana, pois a estivama pode ser tendênciosa</p>"
   ]
  },
  {
   "cell_type": "markdown",
   "metadata": {},
   "source": [
    "<h3>Moda</h3>\n",
    "<p>A moda é uma terceira forma de resumir os dados. Para tal, ela procurar identificar o valor que ocorre com mais frequência no conjunto de dados</p>\n",
    "<p> Se a frequência de n valores tem a mesma frequência, a moda seria os n valores (n-modal) </p>\n",
    "<p> Ela é útil pra alguns contextos, como dados qualitativos. Por exemplo, um conjunto de dados para de pessoas que moram em determinados países. Não faz muito sentido calcular um país médio. Logo, observar o país mais frequente seria mais ideal. Além disso, ela pode ser útil para encontrar o pico em um gráfico de frequência não uniformemente distribuído (ou os picos). Logo, ela também é menos sensível a outliers se o conjunto de dados for significativo </p>"
   ]
  },
  {
   "cell_type": "code",
   "execution_count": 6,
   "metadata": {},
   "outputs": [
    {
     "name": "stdout",
     "output_type": "stream",
     "text": [
      "Temperatura moda: {18, 19} Cº\n"
     ]
    }
   ],
   "source": [
    "temperaturas_semana = [22, 25, 19, 18, 19, 20, 18]\n",
    "mode_temp = functions.mode(temperaturas_semana)\n",
    "print(f'Temperatura moda: {mode_temp} Cº')\n"
   ]
  },
  {
   "cell_type": "markdown",
   "metadata": {},
   "source": [
    "### Comparação das medidas\n",
    "<img src=\"images/Measures-Of-Central-Tendency-Mean-Median-and-Mode.png\" alt=\"Measures-Of-Central-Tendency-Mean-Median-and-Mode\">\n",
    "<a>fonte: https://ledidi.com/academy/measures-of-central-tendency-mean-median-and-mode</a>"
   ]
  },
  {
   "cell_type": "markdown",
   "metadata": {},
   "source": [
    "<h1>Médidas de Dispersão</h1>"
   ]
  },
  {
   "cell_type": "markdown",
   "metadata": {},
   "source": [
    "<h3>Quantis</h3>\n",
    "<p>são valores que dividem uma amostra de dados em partes iguais. Eles são usados em estatística para compreender a distribuição dos dados. Elas podem ser definas em partes de 10 (decis), de 4 (quartis), etc</p>\n",
    "\n",
    "<h3>Quartis</h3>\n",
    "<p>São pontos que dividem os dados em quatro partes iguais</p>\n",
    "<p>Q1(mediana dos 50% primeiros dados, ou seja o 25% percentil), Q2 (mediana de todos os dados) e Q3 (mediana do intevalo 50%-100%, ou seja o 75% percentil) </p>"
   ]
  },
  {
   "cell_type": "code",
   "execution_count": 7,
   "metadata": {},
   "outputs": [
    {
     "data": {
      "text/plain": [
       "13.5"
      ]
     },
     "execution_count": 7,
     "metadata": {},
     "output_type": "execute_result"
    }
   ],
   "source": [
    "food_proteins = [3, 7, 8, 12, 13, 14, 18, 21, 23, 27]\n",
    "\n",
    "functions.quartil(food_proteins, 0.5)"
   ]
  },
  {
   "cell_type": "markdown",
   "metadata": {},
   "source": [
    "<h3>Amplitude - Range</h3>\n",
    "<p>É dado pela diferença entre o maior e menor valor no conjunto de dados. Ele é útil para entender a extensão dos dados, mas é muito sensível a outliers</p>"
   ]
  },
  {
   "cell_type": "code",
   "execution_count": 8,
   "metadata": {},
   "outputs": [
    {
     "data": {
      "text/plain": [
       "24"
      ]
     },
     "execution_count": 8,
     "metadata": {},
     "output_type": "execute_result"
    }
   ],
   "source": [
    "food_proteins = [3, 7, 8, 12, 13, 14, 18, 21, 23, 27]\n",
    "\n",
    "functions.amplitude(food_proteins)"
   ]
  },
  {
   "cell_type": "markdown",
   "metadata": {},
   "source": [
    "<h3>Range Inter Quartil - IQR</h3>\n",
    "<p>Diz quão dispero os valores mais comuns (dentro de Q1 e Q3) estão disperos pelo range. Logo, é dado por Q3 - Q1 e é menos sensível a outliers do que o range</p>"
   ]
  },
  {
   "cell_type": "code",
   "execution_count": 9,
   "metadata": {},
   "outputs": [
    {
     "data": {
      "text/plain": [
       "13"
      ]
     },
     "execution_count": 9,
     "metadata": {},
     "output_type": "execute_result"
    }
   ],
   "source": [
    "food_proteins = [3, 7, 8, 12, 13, 14, 18, 21, 23, 27]\n",
    "\n",
    "functions.iqr(food_proteins)"
   ]
  },
  {
   "cell_type": "markdown",
   "metadata": {},
   "source": [
    "<h3>Variância</h3>\n",
    "<p>Variância é uma medida mais robusta de dispersão que as anteriores, por levar em conta todos os valores do conjunto de dados. Por exemplo, o IQR leva em conta os valores de Q1 e Q3, mas não necessáriamente todos os valores em volta, o que pode causar uma mesma dispersão para dados com distância diferentes.</p>\n",
    "\n",
    "<p>Para levar em conta todo dataset, a variância usa como lógica usar um ponto central (média) e ver a distância dos outros valores para esse ponto. Pegando cada distância e dividindo pelo número de pontos, teremos uma distância média, que é a varância</p>\n",
    "\n",
    "<img src=\"images/variancia.png\" alt=\"variância\">\n",
    "\n",
    "<a>fonte: https://rodrigo-dev77.medium.com/vari%C3%A2ncia-e-desvio-padr%C3%A3o-introdu%C3%A7%C3%A3o-6920cea3da00</a>\n",
    "\n",
    "<p>Sua notação é dado por s2, que não é s elevado a 2. Na fórmula, a elevação a dois ocorre pois estamos calculando distâncias. Já o N - 1 é quando se usa uma amostra em vez da população e ele é algo conhecido como graus de liberdade, que será explicado mais a frente</p>"
   ]
  },
  {
   "cell_type": "code",
   "execution_count": 10,
   "metadata": {},
   "outputs": [
    {
     "name": "stdout",
     "output_type": "stream",
     "text": [
      "A variância da renda é 1000000.0 R$^2\n"
     ]
    }
   ],
   "source": [
    "renda = [1000, 2000, 3000]\n",
    "\n",
    "variance = functions.variance(renda)\n",
    "print(f'A variância da renda é {variance} R$^2')"
   ]
  },
  {
   "cell_type": "markdown",
   "metadata": {},
   "source": [
    "<h3>Desvio Padrão</h3>\n",
    "<p>Variância não é uma medida ruim, mas ela pode ser pouca intiutiva do real signficado. Por exemplo, se tiramos a variância de um conjunto de dados de idades, teriamos então uma unidade anos ao quadrado. Outro exemplo seria o número de cores azul, onde haveria cores azul ao quadro. Logo, para o desvio padrão pode ser mais intuitivo</p>\n",
    "\n",
    "<p>Sua fórmula é simplismente a raiz quadrada da variância e ele pode ser entendido como a distância média dos pontos de dados até a média</p>\n",
    "\n",
    "<p>Tal como a média, ela também é sensível a outliers</p>"
   ]
  },
  {
   "cell_type": "code",
   "execution_count": 11,
   "metadata": {},
   "outputs": [
    {
     "name": "stdout",
     "output_type": "stream",
     "text": [
      "O desvio padrão da renda é 1000.0 R$\n"
     ]
    }
   ],
   "source": [
    "renda = [1000, 2000, 3000]\n",
    "\n",
    "desvio_padrao = functions.std(renda)\n",
    "print(f'O desvio padrão da renda é {desvio_padrao} R$')"
   ]
  },
  {
   "cell_type": "markdown",
   "metadata": {},
   "source": [
    "<h3>Coeficiente de Variação</h3>\n",
    "<p>É vista como o desvio padrão relativo, pois ele mostra o quanto porcento os dados estão dispersos em relação a média.</p>\n",
    "<p>Sendo calculado como a razão entre o desvio padrão e a média do conjunto de dados, essa medida pode ser melhor que o desvio padrão em alguns casos. Por exemplo: </p>\n",
    "\n",
    "<li>Dado o Conjunto Conjunto A: [10, 12, 14, 16, 18] e Conjunto B: [100, 102, 104, 106, 108]</li>\n",
    "<li>A média é diferente (14 para A e 104 para B)</li>\n",
    "<li>O desvio padrão é igual (3,16 para ambos, aproximadamente) - porém a escala é claramente diferente, de 10 para 12 é um aumento de 20%. Já de 100 para 102 é um aumento de 2%. Ou seja, o conjunto A é relativamente mais disperço</li>\n",
    "<li>O coeficiente de variação para o Conjunto A é 22,57%</li>\n",
    "<li>Do Conjunto B é 3,04%</li>\n",
    "\n",
    "<p>Logo temos que:<br>\n",
    "Desvio Padrão: Indica a dispersão absoluta dos dados em relação à média, útil quando a média e a unidade são constantes.<br>\n",
    "Coeficiente de Variação: Indica a dispersão relativa dos dados em relação à média, útil para comparar variabilidade entre diferentes conjuntos de dados, especialmente quando as médias são diferentes.</p><br>\n",
    "<p>OBS: deve-se ter cuidado ao calcular o coeficiente de variação quando a média é próxima de 0</p>"
   ]
  },
  {
   "cell_type": "code",
   "execution_count": 12,
   "metadata": {},
   "outputs": [
    {
     "name": "stdout",
     "output_type": "stream",
     "text": [
      "Coeficiente de variação de A: 0.22587697572631282\n",
      "Coeficiente de variação de B 0.030406515963157497\n"
     ]
    }
   ],
   "source": [
    "a = [10,12,14,16,18]\n",
    "b = [100,102,104,106,108]\n",
    "\n",
    "cv_a = functions.cv(a)\n",
    "cv_b = functions.cv(b)\n",
    "\n",
    "print(f'Coeficiente de variação de A: {cv_a}\\nCoeficiente de variação de B {cv_b}')"
   ]
  },
  {
   "cell_type": "markdown",
   "metadata": {},
   "source": [
    "<h3>Kurtosis</h3>\n",
    "<p>É uma medida que descreve a forma da distribuição de dados, particularmente no que diz respeito às \"caudas\" ou extremidades da distribuição. Especificamente, kurtosis mede a quantidade de dados presentes nas caudas em comparação com a quantidade de dados presentes na região central da distribuição.</p>\n",
    "\n",
    "<h5>Tipos de Kurtosis</h5>\n",
    "<ul>\n",
    "    <li><strong>Mesocúrtica:</strong> Distribuições com kurtosis igual a 3 (a mesma kurtosis da distribuição normal).</li>\n",
    "    <li><strong>Leptocúrtica:</strong> Distribuições com kurtosis maior que 3, indicando caudas mais \"pesadas\" ou extremidades mais pronunciadas do que a distribuição normal.</li>\n",
    "    <li><strong>Platicúrtica:</strong> Distribuições com kurtosis menor que 3, indicando caudas \"mais leves\" ou menos pronunciadas do que a distribuição normal.</li>\n",
    "</ul>\n",
    "\n",
    "<h5>Utilidade da Kurtosis</h5>\n",
    "<p>A kurtosis é útil em várias áreas da estatística e análise de dados:</p>\n",
    "<ul>\n",
    "    <li><strong>Análise de Risco:</strong> Em finanças, a kurtosis é utilizada para entender os riscos de eventos extremos (caudas pesadas), como quedas de mercado.</li>\n",
    "    <li><strong>Modelagem Estatística:</strong> Ajuda a determinar se uma distribuição normal é uma boa aproximação para um conjunto de dados ou se uma distribuição diferente seria mais apropriada.</li>\n",
    "</ul>"
   ]
  },
  {
   "cell_type": "markdown",
   "metadata": {},
   "source": [
    "<h3>Correlação Linear</h3>\n",
    "<p>Correlação é uma medida que mede a tendência de duas variáveis do conjunto. Se quando uma dessas variável aumenta e a outra aumenta junto, temos uma correlação positiva, o contrário gera a negativa.</p>\n",
    "\n",
    "<p>De forma geral, se analisa a proporção de aumento entre as duas variáveis, gerando um indíce entre 0 e 1.</p>\n",
    "<p>É importante destacar que, como ela é linear, os dados devem seguir essa tendência para fazer sentido a analise dessa métrica. Um gráfico de pontos pode ajudar a entender como os dados estão dispersos</p>\n",
    "<img src=\"images/corr_r.png\" alt=\"Correlação fórmula\">\n",
    "\n",
    "<a>fonte: https://www.estrategiaconcursos.com.br/blog/resumo-sobre-correlacao-linear-e-regressao-para-iss-bh-estatistica/</a>\n"
   ]
  },
  {
   "cell_type": "code",
   "execution_count": 13,
   "metadata": {},
   "outputs": [
    {
     "name": "stdout",
     "output_type": "stream",
     "text": [
      "Correlação quase perfeita entre estudo e notas: 0.9655801552000972\n"
     ]
    }
   ],
   "source": [
    "horas_estudo = [2, 3, 4, 5, 6]\n",
    "notas_alunos = [30, 62, 70, 81, 95]\n",
    "\n",
    "corr = functions.corr(horas_estudo, notas_alunos)\n",
    "\n",
    "print(f'Correlação quase perfeita entre estudo e notas: {corr}')"
   ]
  },
  {
   "cell_type": "markdown",
   "metadata": {},
   "source": [
    "<h1>Anomálias e Outliers</h1>"
   ]
  },
  {
   "cell_type": "markdown",
   "metadata": {},
   "source": [
    "<h3>Anomálias</h3>\n",
    "<p>São vistas como dados fora do padrão espero e que devem ser removidos, como por exemplo letras em um conjunto númerico</p>"
   ]
  },
  {
   "cell_type": "markdown",
   "metadata": {},
   "source": [
    "<h3>Outliers</h3>\n",
    "<p>Trazem ideias de valores aberrantes no conjunto de dados. Sua remoção vai depender do contexto dos dados e do problema.</p>\n",
    "<p>Existem duas formas princiáis de calcular um outlier:</p>\n",
    "<li>Valores que, subtraídos da média, são maiores ou menores que duas vezes o desvio padrão: |x + mean| > 2sd ou |x - mean| < 2sd </li>\n",
    "<li>Valores que estão acima de 1.5x do IQR + terceiro quartil ou 1.5x do IRQ - primeiro quartil</li>"
   ]
  },
  {
   "cell_type": "code",
   "execution_count": 14,
   "metadata": {},
   "outputs": [
    {
     "name": "stdout",
     "output_type": "stream",
     "text": [
      "[50]\n",
      "[10, 15, 14, 50, 14, 11]\n"
     ]
    }
   ],
   "source": [
    "velocidades = [10, 12, 15, 14, 13, 12, 50, 12, 14, 13, 11]\n",
    "print(functions.outliers(velocidades, '2sd'))\n",
    "print(functions.outliers(velocidades, 'iqr'))"
   ]
  },
  {
   "cell_type": "markdown",
   "metadata": {},
   "source": [
    "<h4>Quando usar 2sd</h4>\n",
    "\n",
    "<li>Dados normalmente distribuídos: Este método é mais adequado quando você tem uma distribuição aproximadamente normal (distribuição Gaussiana). Em uma distribuição normal, cerca de 95% dos dados estão dentro de dois desvios padrão da média.</li>\n",
    "<li>Pequenos conjuntos de dados: Este método pode ser útil para conjuntos de dados menores onde você pode assumir uma distribuição normal.</li>\n",
    "<li>Dados contínuos: Funciona bem para dados contínuos onde a média e o desvio padrão são representativos da centralidade e dispersão dos dados.</li>\n",
    "\n",
    "<h4>Quando usar 1.5 IQR</h4>\n",
    "\n",
    "<li>Dados com distribuição desconhecida: O método IQR não faz suposições sobre a distribuição dos dados, tornando-o mais robusto para diferentes tipos de distribuições.</li>\n",
    "<li>Dados com outliers significativos: O IQR é menos sensível a outliers extremos do que a média e o desvio padrão. É eficaz em detectar outliers em dados que podem ter valores extremos.</li>\n",
    "<li>Dados assimétricos: Para dados que não são simétricos ou têm uma distribuição enviesada, o IQR é uma medida mais robusta de dispersão.</li>\n",
    "<li>Grandes conjuntos de dados: Funciona bem para grandes conjuntos de dados onde a distribuição pode não ser clara.</li>"
   ]
  },
  {
   "cell_type": "markdown",
   "metadata": {},
   "source": [
    "<h3>Shifting</h3>\n",
    "<p>O <strong>shifting</strong> envolve adicionar ou subtrair uma constante de cada valor em um conjunto de dados. Isso desloca a distribuição dos dados horizontalmente no eixo x, mas não altera a forma da distribuição nem a variabilidade dos dados.</p>\n",
    "<h4>Exemplo de Shifting</h4>\n",
    "<p>Imagine que temos um conjunto de dados representando as temperaturas diárias de uma cidade durante uma semana: {20, 22, 21, 23, 24, 22, 21} graus Celsius. Se quisermos expressar essas temperaturas em relação a uma média diária que está 2 graus mais alta, aplicamos um shifting de +2 graus:</p>\n",
    "<ul>\n",
    "<li>Conjunto original: {20, 22, 21, 23, 24, 22, 21}</li>\n",
    "<li>Conjunto após shifting: {22, 24, 23, 25, 26, 24, 23}</li>\n",
    "</ul>\n",
    "<h3>Scaling</h3>\n",
    "<p>O <strong>scaling</strong> multiplica ou divide cada valor em um conjunto de dados por uma constante. Isso altera a escala da distribuição, mas não muda sua forma básica ou posição central (se multiplicarmos por um número positivo).</p>\n",
    "<h4>Exemplo de Scaling</h4>\n",
    "<p>Considere um conjunto de dados representando o peso de diferentes pacotes em quilogramas: {5, 10, 15, 20, 25} kg. Se quisermos converter esses pesos para libras (onde 1 kg ≈ 2,20462 libras), aplicamos um scaling multiplicativo:</p>\n",
    "<ul>\n",
    "<li>Conjunto original: {5, 10, 15, 20, 25} kg</li>\n",
    "<li>Conjunto após scaling: {11,02, 22,05, 33,07, 44,09, 55,12} libras</li>\n",
    "</ul>"
   ]
  }
 ],
 "metadata": {
  "kernelspec": {
   "display_name": "Python 3",
   "language": "python",
   "name": "python3"
  },
  "language_info": {
   "codemirror_mode": {
    "name": "ipython",
    "version": 3
   },
   "file_extension": ".py",
   "mimetype": "text/x-python",
   "name": "python",
   "nbconvert_exporter": "python",
   "pygments_lexer": "ipython3",
   "version": "3.12.1"
  }
 },
 "nbformat": 4,
 "nbformat_minor": 2
}
