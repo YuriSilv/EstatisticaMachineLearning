{
 "cells": [
  {
   "cell_type": "code",
   "execution_count": 1,
   "metadata": {},
   "outputs": [],
   "source": [
    "import functions"
   ]
  },
  {
   "cell_type": "markdown",
   "metadata": {},
   "source": [
    "<p>Objetivo da estatística descritiva: pode ser visto como o conjunto de métodos que visa descrever, ou atribuir algum significado estimatório, para um conjunto de dados </p>"
   ]
  },
  {
   "cell_type": "markdown",
   "metadata": {},
   "source": [
    "<h3>Amostra x População</h3>\n",
    "<li>A população representa todos os valores possíveis para um determinado conjunto de dados</li>\n",
    "<li>A amostra é uma representação da população, sendo necessária pois muitas vezes é difícil conseguir todos os valores da população. Existem várias técnicas para obter uma boa amostra, onde serão apresentadas mais a frente</li>"
   ]
  },
  {
   "cell_type": "markdown",
   "metadata": {},
   "source": [
    "<h1>Medidas de Resumo</h1>"
   ]
  },
  {
   "cell_type": "markdown",
   "metadata": {},
   "source": [
    "<h3>Média</h3>\n",
    "<p>A média númerica é uma forma de resumir um conjunto de dados númericos, podendo ser entendida como um valor \"justo\" que tenta ficar o mais centralizado possível baseado em todos os valores do conjunto</p>\n",
    "<p>Sua fórmula é dado por u = somatório dos valores da população / quantidade total da valores da população </p>"
   ]
  },
  {
   "cell_type": "code",
   "execution_count": 2,
   "metadata": {},
   "outputs": [
    {
     "name": "stdout",
     "output_type": "stream",
     "text": [
      "Em média, a população tem 23.75 anos\n"
     ]
    }
   ],
   "source": [
    "#exemplo\n",
    "idades = [12, 15, 17, 51]\n",
    "idade_media = functions.mean(idades)\n",
    "\n",
    "print(f'Em média, a população tem {idade_media} anos')"
   ]
  },
  {
   "cell_type": "markdown",
   "metadata": {},
   "source": [
    "<h3>Mediana</h3>\n",
    "<p>A mediana é o valor do meio, central, em seu conjunto de dados ordenado</p>\n",
    "<p>Diferentemente da média, ela não leva em consideração o valor de cada número no conjunto, apenas sua posição. Isso é útil em situações em que existem valores muito discrepantes. Por exemplo, idades de 1, 4, 9, 3 e 98 anos. Talvez não seja interessante considerar a pessoa de 98 anos, pois puxaria muito o valor para cima. Logo, a mediana é menos sensível a outliners </p>\n",
    "<p>Sua fórmula é dado pela ordenação em ordem crescente ou descreste e: </p>\n",
    "<li>Se a quantidade de números for ímpar, x = (num de elementos + 1) / 2</li>\n",
    "<li>Se a quantidade de números for par, fazer a média entre os dois centrais</li>"
   ]
  },
  {
   "cell_type": "code",
   "execution_count": 3,
   "metadata": {},
   "outputs": [
    {
     "name": "stdout",
     "output_type": "stream",
     "text": [
      "A mediana do salário dos 5 funcionários é 3000 R$\n"
     ]
    }
   ],
   "source": [
    "salarios = [1000, 2000, 3000, 9000, 999999]\n",
    "\n",
    "mediana_salarial = functions.median(salarios)\n",
    "print(f'A mediana do salário dos 5 funcionários é {mediana_salarial} R$')"
   ]
  },
  {
   "cell_type": "code",
   "execution_count": 4,
   "metadata": {},
   "outputs": [
    {
     "name": "stdout",
     "output_type": "stream",
     "text": [
      "A mediana do salário dos 4 júniors é 2500.0 R$\n"
     ]
    }
   ],
   "source": [
    "salarios_junior = [1000, 2000, 3000, 4000]\n",
    "\n",
    "mediana_salarial_jr = functions.median(salarios_junior)\n",
    "print(f'A mediana do salário dos 4 júniors é {mediana_salarial_jr} R$')\n"
   ]
  },
  {
   "cell_type": "code",
   "execution_count": 5,
   "metadata": {},
   "outputs": [
    {
     "data": {
      "text/plain": [
       "8.5"
      ]
     },
     "execution_count": 5,
     "metadata": {},
     "output_type": "execute_result"
    }
   ],
   "source": [
    "functions.median([6, 14, -4, 9, 8, 15])"
   ]
  },
  {
   "cell_type": "markdown",
   "metadata": {},
   "source": [
    "<h3>Problema da Distribuição</h3>\n",
    "<p>Se os dados não estiverem bem distribuídos e considerar ranges continuos, é necessário tomar cuidado ao calcular a média e mediana, pois a estivama pode ser tendênciosa</p>"
   ]
  },
  {
   "cell_type": "markdown",
   "metadata": {},
   "source": [
    "<h3>Moda</h3>\n",
    "<p>A moda é uma terceira forma de resumir os dados. Para tal, ela procurar identificar o valor que ocorre com mais frequência no conjunto de dados</p>\n",
    "<p> Se a frequência de n valores tem a mesma frequência, a moda seria os n valores (n-modal) </p>\n",
    "<p> Ela é útil pra alguns contextos, como dados qualitativos. Por exemplo, um conjunto de dados para de pessoas que moram em determinados países. Não faz muito sentido calcular um país médio. Logo, observar o país mais frequente seria mais ideal. Além disso, ela pode ser útil para encontrar o pico em um gráfico de frequência não uniformemente distribuído (ou os picos). Logo, ela também é menos sensível a outliers se o conjunto de dados for significativo </p>"
   ]
  },
  {
   "cell_type": "code",
   "execution_count": 6,
   "metadata": {},
   "outputs": [
    {
     "name": "stdout",
     "output_type": "stream",
     "text": [
      "Temperatura moda: {18, 19} Cº\n"
     ]
    }
   ],
   "source": [
    "temperaturas_semana = [22, 25, 19, 18, 19, 20, 18]\n",
    "mode_temp = functions.mode(temperaturas_semana)\n",
    "print(f'Temperatura moda: {mode_temp} Cº')\n"
   ]
  },
  {
   "cell_type": "markdown",
   "metadata": {},
   "source": [
    "### Comparação das medidas\n",
    "<img src=\"images/Measures-Of-Central-Tendency-Mean-Median-and-Mode.png\" alt=\"Measures-Of-Central-Tendency-Mean-Median-and-Mode\">\n",
    "<a>fonte: https://ledidi.com/academy/measures-of-central-tendency-mean-median-and-mode</a>"
   ]
  },
  {
   "cell_type": "markdown",
   "metadata": {},
   "source": [
    "<h1>Médidas de Dispersão</h1>"
   ]
  },
  {
   "cell_type": "markdown",
   "metadata": {},
   "source": [
    "<h3>Quantis</h3>\n",
    "<p>são valores que dividem uma amostra de dados em partes iguais. Eles são usados em estatística para compreender a distribuição dos dados. Elas podem ser definas em partes de 10 (decis), de 4 (quartis), etc</p>\n",
    "\n",
    "<h3>Quartis</h3>\n",
    "<p>São pontos que dividem os dados em quatro partes iguais</p>\n",
    "<p>Q1(mediana dos 50% primeiros dados, ou seja o 25% percentil), Q2 (mediana de todos os dados) e Q3 (mediana do intevalo 50%-100%, ou seja o 75% percentil) </p>"
   ]
  },
  {
   "cell_type": "code",
   "execution_count": 7,
   "metadata": {},
   "outputs": [
    {
     "data": {
      "text/plain": [
       "13.5"
      ]
     },
     "execution_count": 7,
     "metadata": {},
     "output_type": "execute_result"
    }
   ],
   "source": [
    "food_proteins = [3, 7, 8, 12, 13, 14, 18, 21, 23, 27]\n",
    "\n",
    "functions.quartil(food_proteins, 0.5)"
   ]
  },
  {
   "cell_type": "markdown",
   "metadata": {},
   "source": [
    "<h3>Amplitude - Range</h3>\n",
    "<p>É dado pela diferença entre o maior e menor valor no conjunto de dados. Ele é útil para entender a extensão dos dados, mas é muito sensível a outliers</p>"
   ]
  },
  {
   "cell_type": "code",
   "execution_count": 8,
   "metadata": {},
   "outputs": [
    {
     "data": {
      "text/plain": [
       "24"
      ]
     },
     "execution_count": 8,
     "metadata": {},
     "output_type": "execute_result"
    }
   ],
   "source": [
    "food_proteins = [3, 7, 8, 12, 13, 14, 18, 21, 23, 27]\n",
    "\n",
    "functions.amplitude(food_proteins)"
   ]
  },
  {
   "cell_type": "markdown",
   "metadata": {},
   "source": [
    "<h3>Range Inter Quartil - IQR</h3>\n",
    "<p>Diz quão dispero os valores mais comuns (dentro de Q1 e Q3) estão disperos pelo range. Logo, é dado por Q3 - Q1 e é menos sensível a outliers do que o range</p>"
   ]
  },
  {
   "cell_type": "code",
   "execution_count": 9,
   "metadata": {},
   "outputs": [
    {
     "data": {
      "text/plain": [
       "13"
      ]
     },
     "execution_count": 9,
     "metadata": {},
     "output_type": "execute_result"
    }
   ],
   "source": [
    "food_proteins = [3, 7, 8, 12, 13, 14, 18, 21, 23, 27]\n",
    "\n",
    "functions.iqr(food_proteins)"
   ]
  },
  {
   "cell_type": "markdown",
   "metadata": {},
   "source": [
    "<h3>Variância</h3>\n",
    "<p>Variância é uma medida mais robusta de dispersão que as anteriores, por levar em conta todos os valores do conjunto de dados. Por exemplo, o IQR leva em conta os valores de Q1 e Q3, mas não necessáriamente todos os valores em volta, o que pode causar uma mesma dispersão para dados com distância diferentes.</p>\n",
    "\n",
    "<p>Para levar em conta todo dataset, a variância usa como lógica usar um ponto central (média) e ver a distância dos outros valores para esse ponto. Pegando cada distância e dividindo pelo número de pontos, teremos uma distância média, que é a varância</p>\n",
    "\n",
    "<img src=\"images/variancia.png\" alt=\"variância\">\n",
    "\n",
    "<a>fonte: https://rodrigo-dev77.medium.com/vari%C3%A2ncia-e-desvio-padr%C3%A3o-introdu%C3%A7%C3%A3o-6920cea3da00</a>\n",
    "\n",
    "<p>Sua notação é dado por s2, que não é s elevado a 2. Na fórmula, a elevação a dois ocorre pois estamos calculando distâncias. Já o N - 1 é quando se usa uma amostra em vez da população e ele é algo conhecido como graus de liberdade, que será explicado mais a frente</p>"
   ]
  },
  {
   "cell_type": "code",
   "execution_count": 10,
   "metadata": {},
   "outputs": [
    {
     "name": "stdout",
     "output_type": "stream",
     "text": [
      "A variância da renda é 1000000.0 R$^2\n"
     ]
    }
   ],
   "source": [
    "renda = [1000, 2000, 3000]\n",
    "\n",
    "variance = functions.variance(renda)\n",
    "print(f'A variância da renda é {variance} R$^2')"
   ]
  },
  {
   "cell_type": "markdown",
   "metadata": {},
   "source": [
    "<h3>Desvio Padrão</h3>\n",
    "<p>Variância não é uma medida ruim, mas ela pode ser pouca intiutiva do real signficado. Por exemplo, se tiramos a variância de um conjunto de dados de idades, teriamos então uma unidade anos ao quadrado. Outro exemplo seria o número de cores azul, onde haveria cores azul ao quadro. Logo, para o desvio padrão pode ser mais intuitivo</p>\n",
    "\n",
    "<p>Sua fórmula é simplismente a raiz quadrada da variância e ele pode ser entendido como a distância média dos pontos de dados até a média</p>"
   ]
  },
  {
   "cell_type": "code",
   "execution_count": 11,
   "metadata": {},
   "outputs": [
    {
     "name": "stdout",
     "output_type": "stream",
     "text": [
      "O desvio padrão da renda é 1000.0 R$\n"
     ]
    }
   ],
   "source": [
    "renda = [1000, 2000, 3000]\n",
    "\n",
    "desvio_padrao = functions.std(renda)\n",
    "print(f'O desvio padrão da renda é {desvio_padrao} R$')"
   ]
  }
 ],
 "metadata": {
  "kernelspec": {
   "display_name": "Python 3",
   "language": "python",
   "name": "python3"
  },
  "language_info": {
   "codemirror_mode": {
    "name": "ipython",
    "version": 3
   },
   "file_extension": ".py",
   "mimetype": "text/x-python",
   "name": "python",
   "nbconvert_exporter": "python",
   "pygments_lexer": "ipython3",
   "version": "3.12.1"
  }
 },
 "nbformat": 4,
 "nbformat_minor": 2
}
