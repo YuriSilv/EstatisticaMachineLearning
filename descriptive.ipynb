{
 "cells": [
  {
   "cell_type": "code",
   "execution_count": 1,
   "metadata": {},
   "outputs": [],
   "source": [
    "import functions"
   ]
  },
  {
   "cell_type": "markdown",
   "metadata": {},
   "source": [
    "<p>Objetivo da estatística descritiva: pode ser visto como o conjunto de métodos que visa descrever, ou atribuir algum significado estimatório, para um conjunto de dados </p>"
   ]
  },
  {
   "cell_type": "markdown",
   "metadata": {},
   "source": [
    "<h3>Amostra x População</h3>\n",
    "<li>A população representa todos os valores possíveis para um determinado conjunto de dados</li>\n",
    "<li>A amostra é uma representação da população, sendo necessária pois muitas vezes é difícil conseguir todos os valores da população. Existem várias técnicas para obter uma boa amostra, onde serão apresentadas mais a frente</li>"
   ]
  },
  {
   "cell_type": "markdown",
   "metadata": {},
   "source": [
    "<h3>Média</h3>\n",
    "<p>A média númerica é uma forma de resumir um conjunto de dados númericos, podendo ser entendida como um valor \"justo\" que tenta ficar o mais centralizado possível baseado em todos os valores do conjunto</p>\n",
    "<p>Sua fórmula é dado por u = somatório dos valores da população / quantidade total da valores da população </p>"
   ]
  },
  {
   "cell_type": "code",
   "execution_count": 4,
   "metadata": {},
   "outputs": [
    {
     "name": "stdout",
     "output_type": "stream",
     "text": [
      "Em média, a população tem 23.75 anos\n"
     ]
    }
   ],
   "source": [
    "#exemplo\n",
    "idades = [12, 15, 17, 51]\n",
    "idade_media = functions.mean(idades)\n",
    "\n",
    "print(f'Em média, a população tem {idade_media} anos')"
   ]
  }
 ],
 "metadata": {
  "kernelspec": {
   "display_name": "Python 3",
   "language": "python",
   "name": "python3"
  },
  "language_info": {
   "codemirror_mode": {
    "name": "ipython",
    "version": 3
   },
   "file_extension": ".py",
   "mimetype": "text/x-python",
   "name": "python",
   "nbconvert_exporter": "python",
   "pygments_lexer": "ipython3",
   "version": "3.12.1"
  }
 },
 "nbformat": 4,
 "nbformat_minor": 2
}
